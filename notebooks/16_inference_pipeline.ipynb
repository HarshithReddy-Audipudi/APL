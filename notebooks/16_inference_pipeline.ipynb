{
 "cells": [
  {
   "cell_type": "code",
   "id": "cc080774-f41a-4503-a064-c0ac819eeb99",
   "metadata": {
    "ExecuteTime": {
     "end_time": "2025-03-03T07:16:06.047441Z",
     "start_time": "2025-03-03T07:16:06.046158Z"
    }
   },
   "source": [
    "# Reg fetch new batch of features and compute predictions and save to feature store\n",
    "# "
   ],
   "outputs": [],
   "execution_count": 1
  },
  {
   "cell_type": "code",
   "id": "4bd038bf-8550-420b-9ec2-308198fca80f",
   "metadata": {
    "ExecuteTime": {
     "end_time": "2025-03-03T07:16:07.446518Z",
     "start_time": "2025-03-03T07:16:07.431487Z"
    }
   },
   "source": [
    "%load_ext autoreload\n",
    "%autoreload 2"
   ],
   "outputs": [],
   "execution_count": 2
  },
  {
   "cell_type": "code",
   "id": "46b8ae0d-58dd-4772-8931-25ff5fccb749",
   "metadata": {
    "ExecuteTime": {
     "end_time": "2025-03-03T07:16:09.545317Z",
     "start_time": "2025-03-03T07:16:09.527723Z"
    }
   },
   "source": [
    "import sys\n",
    "import os\n",
    "\n",
    "# Add the parent directory to the Python path\n",
    "sys.path.append(os.path.abspath(os.path.join(os.getcwd(), \"..\")))\n",
    "import src.config as config"
   ],
   "outputs": [],
   "execution_count": 3
  },
  {
   "cell_type": "code",
   "id": "26612685-265e-4415-a149-5751be8f994d",
   "metadata": {
    "ExecuteTime": {
     "end_time": "2025-03-03T07:16:22.438554Z",
     "start_time": "2025-03-03T07:16:11.393548Z"
    }
   },
   "source": [
    "from src.inference import get_feature_store\n",
    "from datetime import datetime, timedelta\n",
    "import pandas as pd  \n",
    "\n",
    "# Get the current datetime64[us, Etc/UTC]  \n",
    "current_date = pd.Timestamp.now(tz='Etc/UTC')\n",
    "feature_store = get_feature_store()\n",
    "\n",
    "# read time-series data from the feature store\n",
    "fetch_data_to = current_date - timedelta(hours=1)\n",
    "fetch_data_from = current_date - timedelta(days=1*29)\n",
    "print(f\"Fetching data from {fetch_data_from} to {fetch_data_to}\")\n",
    "feature_view = feature_store.get_feature_view(\n",
    "    name=config.FEATURE_VIEW_NAME, version=config.FEATURE_VIEW_VERSION\n",
    ")\n",
    "\n",
    "ts_data = feature_view.get_batch_data(\n",
    "    start_time=(fetch_data_from - timedelta(days=1)),\n",
    "    end_time=(fetch_data_to + timedelta(days=1)),\n",
    ")\n",
    "ts_data = ts_data[ts_data.pickup_hour.between(fetch_data_from, fetch_data_to)]\n",
    "ts_data.sort_values([\"pickup_location_id\", \"pickup_hour\"]).reset_index(drop=True)\n",
    "ts_data[\"pickup_hour\"] = ts_data[\"pickup_hour\"].dt.tz_localize(None)\n",
    "\n",
    "from src.data_utils import transform_ts_data_info_features\n",
    "features = transform_ts_data_info_features(ts_data, window_size=24*28, step_size=23)"
   ],
   "outputs": [
    {
     "name": "stdout",
     "output_type": "stream",
     "text": [
      "2025-03-03 02:16:11,999 INFO: Initializing external client\n",
      "2025-03-03 02:16:11,999 INFO: Base URL: https://c.app.hopsworks.ai:443\n",
      "2025-03-03 02:16:12,932 INFO: Python Engine initialized.\n",
      "\n",
      "Logged in to project, explore it here https://c.app.hopsworks.ai:443/p/1215651\n",
      "Fetching data from 2025-02-02 07:16:11.999039+00:00 to 2025-03-03 06:16:11.999039+00:00\n",
      "Finished: Reading data from Hopsworks, using Hopsworks Feature Query Service (4.83s) from Hopsworks, using Hopsworks Feature Query Service.   Reading data from Hopsworks, using Hopsworks Feature Query Service...   Reading data from Hopsworks, using Hopsworks Feature Query Service.   \n"
     ]
    }
   ],
   "execution_count": 4
  },
  {
   "cell_type": "code",
   "id": "22253dce-140a-4296-a48b-35c6c7655b90",
   "metadata": {
    "ExecuteTime": {
     "end_time": "2025-03-03T07:16:30.163646Z",
     "start_time": "2025-03-03T07:16:26.975261Z"
    }
   },
   "source": [
    "from src.inference import load_model_from_registry\n",
    "\n",
    "model = load_model_from_registry()"
   ],
   "outputs": [
    {
     "name": "stdout",
     "output_type": "stream",
     "text": [
      "2025-03-03 02:16:27,484 INFO: Closing external client and cleaning up certificates.\n",
      "Connection closed.\n",
      "2025-03-03 02:16:27,486 INFO: Initializing external client\n",
      "2025-03-03 02:16:27,486 INFO: Base URL: https://c.app.hopsworks.ai:443\n",
      "2025-03-03 02:16:28,262 INFO: Python Engine initialized.\n",
      "\n",
      "Logged in to project, explore it here https://c.app.hopsworks.ai:443/p/1215651\n",
      "Downloading model artifact (0 dirs, 1 files)... DONE\r"
     ]
    }
   ],
   "execution_count": 5
  },
  {
   "cell_type": "code",
   "id": "b868f801-03a3-4d51-8e24-88231e664f29",
   "metadata": {
    "ExecuteTime": {
     "end_time": "2025-03-03T07:16:32.128749Z",
     "start_time": "2025-03-03T07:16:32.086573Z"
    }
   },
   "source": [
    "from src.inference import get_model_predictions\n",
    "predictions = get_model_predictions(model, features)"
   ],
   "outputs": [],
   "execution_count": 6
  },
  {
   "cell_type": "code",
   "id": "751d63ab-8e98-4087-a3cf-d79bd1bd88e5",
   "metadata": {
    "ExecuteTime": {
     "end_time": "2025-03-03T07:16:34.031106Z",
     "start_time": "2025-03-03T07:16:34.003057Z"
    }
   },
   "source": [
    "predictions[\"pickup_hour\"] = current_date.ceil('h')\n",
    "predictions"
   ],
   "outputs": [
    {
     "data": {
      "text/plain": [
       "     pickup_location_id  predicted_demand               pickup_hour\n",
       "0                   263              93.0 2025-03-03 08:00:00+00:00\n",
       "1                   210               0.0 2025-03-03 08:00:00+00:00\n",
       "2                   216               1.0 2025-03-03 08:00:00+00:00\n",
       "3                   147               0.0 2025-03-03 08:00:00+00:00\n",
       "4                   217               1.0 2025-03-03 08:00:00+00:00\n",
       "..                  ...               ...                       ...\n",
       "246                  67               0.0 2025-03-03 08:00:00+00:00\n",
       "247                  62               1.0 2025-03-03 08:00:00+00:00\n",
       "248                  86               0.0 2025-03-03 08:00:00+00:00\n",
       "249                 142             163.0 2025-03-03 08:00:00+00:00\n",
       "250                  74               9.0 2025-03-03 08:00:00+00:00\n",
       "\n",
       "[251 rows x 3 columns]"
      ],
      "text/html": [
       "<div>\n",
       "<style scoped>\n",
       "    .dataframe tbody tr th:only-of-type {\n",
       "        vertical-align: middle;\n",
       "    }\n",
       "\n",
       "    .dataframe tbody tr th {\n",
       "        vertical-align: top;\n",
       "    }\n",
       "\n",
       "    .dataframe thead th {\n",
       "        text-align: right;\n",
       "    }\n",
       "</style>\n",
       "<table border=\"1\" class=\"dataframe\">\n",
       "  <thead>\n",
       "    <tr style=\"text-align: right;\">\n",
       "      <th></th>\n",
       "      <th>pickup_location_id</th>\n",
       "      <th>predicted_demand</th>\n",
       "      <th>pickup_hour</th>\n",
       "    </tr>\n",
       "  </thead>\n",
       "  <tbody>\n",
       "    <tr>\n",
       "      <th>0</th>\n",
       "      <td>263</td>\n",
       "      <td>93.0</td>\n",
       "      <td>2025-03-03 08:00:00+00:00</td>\n",
       "    </tr>\n",
       "    <tr>\n",
       "      <th>1</th>\n",
       "      <td>210</td>\n",
       "      <td>0.0</td>\n",
       "      <td>2025-03-03 08:00:00+00:00</td>\n",
       "    </tr>\n",
       "    <tr>\n",
       "      <th>2</th>\n",
       "      <td>216</td>\n",
       "      <td>1.0</td>\n",
       "      <td>2025-03-03 08:00:00+00:00</td>\n",
       "    </tr>\n",
       "    <tr>\n",
       "      <th>3</th>\n",
       "      <td>147</td>\n",
       "      <td>0.0</td>\n",
       "      <td>2025-03-03 08:00:00+00:00</td>\n",
       "    </tr>\n",
       "    <tr>\n",
       "      <th>4</th>\n",
       "      <td>217</td>\n",
       "      <td>1.0</td>\n",
       "      <td>2025-03-03 08:00:00+00:00</td>\n",
       "    </tr>\n",
       "    <tr>\n",
       "      <th>...</th>\n",
       "      <td>...</td>\n",
       "      <td>...</td>\n",
       "      <td>...</td>\n",
       "    </tr>\n",
       "    <tr>\n",
       "      <th>246</th>\n",
       "      <td>67</td>\n",
       "      <td>0.0</td>\n",
       "      <td>2025-03-03 08:00:00+00:00</td>\n",
       "    </tr>\n",
       "    <tr>\n",
       "      <th>247</th>\n",
       "      <td>62</td>\n",
       "      <td>1.0</td>\n",
       "      <td>2025-03-03 08:00:00+00:00</td>\n",
       "    </tr>\n",
       "    <tr>\n",
       "      <th>248</th>\n",
       "      <td>86</td>\n",
       "      <td>0.0</td>\n",
       "      <td>2025-03-03 08:00:00+00:00</td>\n",
       "    </tr>\n",
       "    <tr>\n",
       "      <th>249</th>\n",
       "      <td>142</td>\n",
       "      <td>163.0</td>\n",
       "      <td>2025-03-03 08:00:00+00:00</td>\n",
       "    </tr>\n",
       "    <tr>\n",
       "      <th>250</th>\n",
       "      <td>74</td>\n",
       "      <td>9.0</td>\n",
       "      <td>2025-03-03 08:00:00+00:00</td>\n",
       "    </tr>\n",
       "  </tbody>\n",
       "</table>\n",
       "<p>251 rows × 3 columns</p>\n",
       "</div>"
      ]
     },
     "execution_count": 7,
     "metadata": {},
     "output_type": "execute_result"
    }
   ],
   "execution_count": 7
  },
  {
   "cell_type": "code",
   "id": "7b171dd4-628a-4c46-af00-92cee476f090",
   "metadata": {
    "ExecuteTime": {
     "end_time": "2025-03-03T07:16:45.713129Z",
     "start_time": "2025-03-03T07:16:43.758226Z"
    }
   },
   "source": [
    "from src.inference import get_feature_store\n",
    "\n",
    "feature_group = get_feature_store().get_or_create_feature_group(\n",
    "    name=config.FEATURE_GROUP_MODEL_PREDICTION,\n",
    "    version=1,\n",
    "    description=\"Predictions from LGBM Model\",\n",
    "    primary_key=[\"pickup_location_id\", \"pickup_hour\"],\n",
    "    event_time=\"pickup_hour\",\n",
    ")"
   ],
   "outputs": [
    {
     "name": "stdout",
     "output_type": "stream",
     "text": [
      "2025-03-03 02:16:43,778 INFO: Closing external client and cleaning up certificates.\n",
      "Connection closed.\n",
      "2025-03-03 02:16:43,780 INFO: Initializing external client\n",
      "2025-03-03 02:16:43,781 INFO: Base URL: https://c.app.hopsworks.ai:443\n",
      "2025-03-03 02:16:44,599 INFO: Python Engine initialized.\n",
      "\n",
      "Logged in to project, explore it here https://c.app.hopsworks.ai:443/p/1215651\n"
     ]
    }
   ],
   "execution_count": 8
  },
  {
   "cell_type": "code",
   "id": "0ba8f0db-022e-4f8a-ac34-6fd8bb095b47",
   "metadata": {
    "ExecuteTime": {
     "end_time": "2025-03-03T07:17:00.399384Z",
     "start_time": "2025-03-03T07:16:50.909072Z"
    }
   },
   "source": [
    "feature_group.insert(predictions, write_options={\"wait_for_job\": False})"
   ],
   "outputs": [
    {
     "name": "stderr",
     "output_type": "stream",
     "text": [
      "Uploading Dataframe: 100.00% |██████████| Rows 251/251 | Elapsed Time: 00:01 | Remaining Time: 00:00\n"
     ]
    },
    {
     "name": "stdout",
     "output_type": "stream",
     "text": [
      "Launching job: taxi_hourly_model_prediction_1_offline_fg_materialization\n",
      "Job started successfully, you can follow the progress at \n",
      "https://c.app.hopsworks.ai:443/p/1215651/jobs/named/taxi_hourly_model_prediction_1_offline_fg_materialization/executions\n"
     ]
    },
    {
     "data": {
      "text/plain": [
       "(Job('taxi_hourly_model_prediction_1_offline_fg_materialization', 'SPARK'),\n",
       " None)"
      ]
     },
     "execution_count": 9,
     "metadata": {},
     "output_type": "execute_result"
    }
   ],
   "execution_count": 9
  }
 ],
 "metadata": {
  "kernelspec": {
   "display_name": "Python 3 (ipykernel)",
   "language": "python",
   "name": "python3"
  },
  "language_info": {
   "codemirror_mode": {
    "name": "ipython",
    "version": 3
   },
   "file_extension": ".py",
   "mimetype": "text/x-python",
   "name": "python",
   "nbconvert_exporter": "python",
   "pygments_lexer": "ipython3",
   "version": "3.11.11"
  }
 },
 "nbformat": 4,
 "nbformat_minor": 5
}
