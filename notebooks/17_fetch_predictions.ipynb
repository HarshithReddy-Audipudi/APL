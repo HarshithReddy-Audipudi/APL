{
 "cells": [
  {
   "cell_type": "code",
   "id": "1555e775-4045-409a-a2cd-b22934b5fe3b",
   "metadata": {
    "ExecuteTime": {
     "end_time": "2025-03-04T19:43:45.194012Z",
     "start_time": "2025-03-04T19:43:45.184396Z"
    }
   },
   "source": [
    "%load_ext autoreload\n",
    "%autoreload 2"
   ],
   "outputs": [],
   "execution_count": 1
  },
  {
   "cell_type": "code",
   "id": "15e2d67e-a5c7-453c-84e8-a210c608e9f0",
   "metadata": {
    "ExecuteTime": {
     "end_time": "2025-03-04T19:43:45.207301Z",
     "start_time": "2025-03-04T19:43:45.196276Z"
    }
   },
   "source": [
    "import sys\n",
    "import os\n",
    "\n",
    "# Add the parent directory to the Python path\n",
    "sys.path.append(os.path.abspath(os.path.join(os.getcwd(), \"..\")))\n",
    "import src.config as config"
   ],
   "outputs": [],
   "execution_count": 2
  },
  {
   "cell_type": "code",
   "id": "05248d6f-2194-48dd-a582-77cbda1ad16c",
   "metadata": {
    "ExecuteTime": {
     "end_time": "2025-03-04T19:43:46.783766Z",
     "start_time": "2025-03-04T19:43:45.272127Z"
    }
   },
   "source": [
    "import src.config as config\n",
    "from src.inference import (\n",
    "    get_feature_store\n",
    ")\n",
    "\n",
    "from datetime import datetime, timezone, timedelta\n",
    "\n",
    "def get_current_utc_hour_ceiled():\n",
    "    \"\"\"Get current UTC time ceiled to the next hour\"\"\"\n",
    "    current = datetime.now(timezone.utc)\n",
    "    if current.minute > 0 or current.second > 0:\n",
    "        # Ceil to next hour\n",
    "        current = current + timedelta(hours=1)\n",
    "\n",
    "    # Reset minutes, seconds, and microseconds\n",
    "    current = current.replace(minute=0, second=0, microsecond=0)\n",
    "    return current\n",
    "\n",
    "# Usage\n",
    "current_hour = get_current_utc_hour_ceiled()\n",
    "print(f\"Current UTC hour (ceiled): {current_hour}\")"
   ],
   "outputs": [
    {
     "name": "stdout",
     "output_type": "stream",
     "text": [
      "Current UTC hour (ceiled): 2025-03-04 20:00:00+00:00\n"
     ]
    }
   ],
   "execution_count": 3
  },
  {
   "cell_type": "code",
   "id": "5c5559a0-89e2-458d-9bbc-b1ec103659f6",
   "metadata": {
    "ExecuteTime": {
     "end_time": "2025-03-04T19:43:46.810007Z",
     "start_time": "2025-03-04T19:43:46.792562Z"
    }
   },
   "source": [
    "def fetch_predictions():\n",
    "    current_date = pd.Timestamp.now(tz='Etc/UTC').ceil('h')\n",
    "\n",
    "    fs = get_feature_store()\n",
    "    fg = fs.get_feature_group(\n",
    "        name=config.FEATURE_GROUP_MODEL_PREDICTION,\n",
    "        version=1\n",
    "    )\n",
    "\n",
    "    query = fg.select_all()\n",
    "    query = query.filter(fg.pickup_hour == current_hour)\n",
    "\n",
    "    return query.read()"
   ],
   "outputs": [],
   "execution_count": 4
  },
  {
   "cell_type": "code",
   "id": "53a3af64-b773-43a6-bb10-c9e209cc6cb0",
   "metadata": {
    "ExecuteTime": {
     "end_time": "2025-03-04T19:43:48.407453Z",
     "start_time": "2025-03-04T19:43:46.814580Z"
    }
   },
   "source": [
    "fs = get_feature_store()\n",
    "fg = fs.get_feature_group(\n",
    "    name=config.FEATURE_GROUP_MODEL_PREDICTION,\n",
    "    version=1\n",
    ")\n",
    "\n",
    "query = fg.select_all()"
   ],
   "outputs": [
    {
     "name": "stdout",
     "output_type": "stream",
     "text": [
      "2025-03-04 14:43:46,832 INFO: Initializing external client\n",
      "2025-03-04 14:43:46,833 INFO: Base URL: https://c.app.hopsworks.ai:443\n",
      "2025-03-04 14:43:47,537 INFO: Python Engine initialized.\n",
      "\n",
      "Logged in to project, explore it here https://c.app.hopsworks.ai:443/p/1215651\n"
     ]
    }
   ],
   "execution_count": 5
  },
  {
   "cell_type": "code",
   "id": "c6321059-d894-4f75-94c8-b4ea29bf8ea5",
   "metadata": {
    "ExecuteTime": {
     "end_time": "2025-03-04T19:43:50.315955Z",
     "start_time": "2025-03-04T19:43:48.899202Z"
    }
   },
   "source": [
    "df= query.read()"
   ],
   "outputs": [
    {
     "name": "stdout",
     "output_type": "stream",
     "text": [
      "Finished: Reading data from Hopsworks, using Hopsworks Feature Query Service (0.49s) \n"
     ]
    }
   ],
   "execution_count": 6
  },
  {
   "cell_type": "code",
   "id": "367f3978-9a5d-4d97-b19a-88afcfb1d14f",
   "metadata": {
    "ExecuteTime": {
     "end_time": "2025-03-04T19:43:50.939135Z",
     "start_time": "2025-03-04T19:43:50.934413Z"
    }
   },
   "source": [],
   "outputs": [],
   "execution_count": null
  },
  {
   "cell_type": "code",
   "id": "8d03786a-90dc-425a-8e4e-3b4dca4a08fa",
   "metadata": {
    "ExecuteTime": {
     "end_time": "2025-03-04T19:43:51.640033Z",
     "start_time": "2025-03-04T19:43:51.607484Z"
    }
   },
   "source": [
    "df"
   ],
   "outputs": [
    {
     "data": {
      "text/plain": [
       "      pickup_location_id  predicted_demand               pickup_hour\n",
       "0                    254               0.0 2025-03-03 06:00:00+00:00\n",
       "1                     68             129.0 2025-03-03 06:00:00+00:00\n",
       "2                    207               0.0 2025-03-03 06:00:00+00:00\n",
       "3                    202               0.0 2025-03-03 06:00:00+00:00\n",
       "4                     91               0.0 2025-03-03 06:00:00+00:00\n",
       "...                  ...               ...                       ...\n",
       "7274                  50              29.0 2025-03-04 20:00:00+00:00\n",
       "7275                 235               0.0 2025-03-04 20:00:00+00:00\n",
       "7276                  36               0.0 2025-03-04 20:00:00+00:00\n",
       "7277                 137              39.0 2025-03-04 20:00:00+00:00\n",
       "7278                 185               0.0 2025-03-04 20:00:00+00:00\n",
       "\n",
       "[7279 rows x 3 columns]"
      ],
      "text/html": [
       "<div>\n",
       "<style scoped>\n",
       "    .dataframe tbody tr th:only-of-type {\n",
       "        vertical-align: middle;\n",
       "    }\n",
       "\n",
       "    .dataframe tbody tr th {\n",
       "        vertical-align: top;\n",
       "    }\n",
       "\n",
       "    .dataframe thead th {\n",
       "        text-align: right;\n",
       "    }\n",
       "</style>\n",
       "<table border=\"1\" class=\"dataframe\">\n",
       "  <thead>\n",
       "    <tr style=\"text-align: right;\">\n",
       "      <th></th>\n",
       "      <th>pickup_location_id</th>\n",
       "      <th>predicted_demand</th>\n",
       "      <th>pickup_hour</th>\n",
       "    </tr>\n",
       "  </thead>\n",
       "  <tbody>\n",
       "    <tr>\n",
       "      <th>0</th>\n",
       "      <td>254</td>\n",
       "      <td>0.0</td>\n",
       "      <td>2025-03-03 06:00:00+00:00</td>\n",
       "    </tr>\n",
       "    <tr>\n",
       "      <th>1</th>\n",
       "      <td>68</td>\n",
       "      <td>129.0</td>\n",
       "      <td>2025-03-03 06:00:00+00:00</td>\n",
       "    </tr>\n",
       "    <tr>\n",
       "      <th>2</th>\n",
       "      <td>207</td>\n",
       "      <td>0.0</td>\n",
       "      <td>2025-03-03 06:00:00+00:00</td>\n",
       "    </tr>\n",
       "    <tr>\n",
       "      <th>3</th>\n",
       "      <td>202</td>\n",
       "      <td>0.0</td>\n",
       "      <td>2025-03-03 06:00:00+00:00</td>\n",
       "    </tr>\n",
       "    <tr>\n",
       "      <th>4</th>\n",
       "      <td>91</td>\n",
       "      <td>0.0</td>\n",
       "      <td>2025-03-03 06:00:00+00:00</td>\n",
       "    </tr>\n",
       "    <tr>\n",
       "      <th>...</th>\n",
       "      <td>...</td>\n",
       "      <td>...</td>\n",
       "      <td>...</td>\n",
       "    </tr>\n",
       "    <tr>\n",
       "      <th>7274</th>\n",
       "      <td>50</td>\n",
       "      <td>29.0</td>\n",
       "      <td>2025-03-04 20:00:00+00:00</td>\n",
       "    </tr>\n",
       "    <tr>\n",
       "      <th>7275</th>\n",
       "      <td>235</td>\n",
       "      <td>0.0</td>\n",
       "      <td>2025-03-04 20:00:00+00:00</td>\n",
       "    </tr>\n",
       "    <tr>\n",
       "      <th>7276</th>\n",
       "      <td>36</td>\n",
       "      <td>0.0</td>\n",
       "      <td>2025-03-04 20:00:00+00:00</td>\n",
       "    </tr>\n",
       "    <tr>\n",
       "      <th>7277</th>\n",
       "      <td>137</td>\n",
       "      <td>39.0</td>\n",
       "      <td>2025-03-04 20:00:00+00:00</td>\n",
       "    </tr>\n",
       "    <tr>\n",
       "      <th>7278</th>\n",
       "      <td>185</td>\n",
       "      <td>0.0</td>\n",
       "      <td>2025-03-04 20:00:00+00:00</td>\n",
       "    </tr>\n",
       "  </tbody>\n",
       "</table>\n",
       "<p>7279 rows × 3 columns</p>\n",
       "</div>"
      ]
     },
     "execution_count": 7,
     "metadata": {},
     "output_type": "execute_result"
    }
   ],
   "execution_count": 7
  },
  {
   "cell_type": "code",
   "id": "39ea132b-5a59-44cb-b155-fa765164e3cc",
   "metadata": {
    "ExecuteTime": {
     "end_time": "2025-03-04T19:44:11.302315Z",
     "start_time": "2025-03-04T19:44:10.079614Z"
    }
   },
   "source": [
    "from datetime import datetime, timezone, timedelta\n",
    "\n",
    "def fetch_next_hour_predictions():\n",
    "    # Get current UTC time and round up to next hour\n",
    "    now = datetime.now(timezone.utc)\n",
    "    next_hour = (now + timedelta(hours=1)).replace(minute=0, second=0, microsecond=0)\n",
    "\n",
    "    # Extract components from the rounded-up time\n",
    "    year = next_hour.year\n",
    "    month = next_hour.month\n",
    "    day = next_hour.day\n",
    "    hour = next_hour.hour\n",
    "\n",
    "    # Create date strings in YYYY-MM-DD format\n",
    "    current_date = f\"{year}-{month:02d}-{day:02d}\"\n",
    "    next_date = next_hour + timedelta(days=1)\n",
    "    next_date_str = next_date.strftime(\"%Y-%m-%d\")\n",
    "\n",
    "    fs = get_feature_store()\n",
    "    fg = fs.get_feature_group(\n",
    "        name=config.FEATURE_GROUP_MODEL_PREDICTION,\n",
    "        version=1\n",
    "    )\n",
    "\n",
    "    # # First get the full day's data from Hopsworks\n",
    "    # df = fg.filter(\n",
    "    #     (fg.pickup_hour >= current_date) &\n",
    "    #     (fg.pickup_hour < next_date_str)\n",
    "    # ).read()\n",
    "\n",
    "    # Then filter for next hour in the DataFrame\n",
    "    hour_str = f\"{current_date} {hour:02d}:00\"\n",
    "    df_hour = df[df['pickup_hour'] == hour_str]\n",
    "\n",
    "    print(f\"Current UTC time: {now}\")\n",
    "    print(f\"Next hour: {next_hour}\")\n",
    "    print(f\"Querying for date range: {current_date} to {next_date_str}\")\n",
    "    print(f\"Filtering for hour: {hour_str}\")\n",
    "    print(f\"Found {len(df_hour)} records\")\n",
    "    return df_hour\n",
    "\n",
    "# Example usage:\n",
    "predictions = fetch_next_hour_predictions()"
   ],
   "outputs": [
    {
     "name": "stdout",
     "output_type": "stream",
     "text": [
      "2025-03-04 14:44:10,102 INFO: Closing external client and cleaning up certificates.\n",
      "Connection closed.\n",
      "2025-03-04 14:44:10,104 INFO: Initializing external client\n",
      "2025-03-04 14:44:10,104 INFO: Base URL: https://c.app.hopsworks.ai:443\n",
      "2025-03-04 14:44:10,585 INFO: Python Engine initialized.\n",
      "\n",
      "Logged in to project, explore it here https://c.app.hopsworks.ai:443/p/1215651\n",
      "Current UTC time: 2025-03-04 19:44:10.102871+00:00\n",
      "Next hour: 2025-03-04 20:00:00+00:00\n",
      "Querying for date range: 2025-03-04 to 2025-03-05\n",
      "Filtering for hour: 2025-03-04 20:00\n",
      "Found 251 records\n"
     ]
    }
   ],
   "execution_count": 10
  },
  {
   "cell_type": "code",
   "id": "4c512f98-d569-4a9f-8391-d301b1226c91",
   "metadata": {
    "ExecuteTime": {
     "end_time": "2025-03-04T19:44:14.480834Z",
     "start_time": "2025-03-04T19:44:14.454997Z"
    }
   },
   "source": [
    "now = datetime.now(timezone.utc)"
   ],
   "outputs": [],
   "execution_count": 11
  },
  {
   "cell_type": "code",
   "id": "0e5671d3-701d-4fca-bb91-a697f622239a",
   "metadata": {
    "ExecuteTime": {
     "end_time": "2025-03-04T19:44:16.424729Z",
     "start_time": "2025-03-04T19:44:16.396854Z"
    }
   },
   "source": [
    "predictions"
   ],
   "outputs": [
    {
     "data": {
      "text/plain": [
       "      pickup_location_id  predicted_demand               pickup_hour\n",
       "7028                 194               0.0 2025-03-04 20:00:00+00:00\n",
       "7029                 208               0.0 2025-03-04 20:00:00+00:00\n",
       "7030                  78               0.0 2025-03-04 20:00:00+00:00\n",
       "7031                  79              55.0 2025-03-04 20:00:00+00:00\n",
       "7032                 138             171.0 2025-03-04 20:00:00+00:00\n",
       "...                  ...               ...                       ...\n",
       "7274                  50              29.0 2025-03-04 20:00:00+00:00\n",
       "7275                 235               0.0 2025-03-04 20:00:00+00:00\n",
       "7276                  36               0.0 2025-03-04 20:00:00+00:00\n",
       "7277                 137              39.0 2025-03-04 20:00:00+00:00\n",
       "7278                 185               0.0 2025-03-04 20:00:00+00:00\n",
       "\n",
       "[251 rows x 3 columns]"
      ],
      "text/html": [
       "<div>\n",
       "<style scoped>\n",
       "    .dataframe tbody tr th:only-of-type {\n",
       "        vertical-align: middle;\n",
       "    }\n",
       "\n",
       "    .dataframe tbody tr th {\n",
       "        vertical-align: top;\n",
       "    }\n",
       "\n",
       "    .dataframe thead th {\n",
       "        text-align: right;\n",
       "    }\n",
       "</style>\n",
       "<table border=\"1\" class=\"dataframe\">\n",
       "  <thead>\n",
       "    <tr style=\"text-align: right;\">\n",
       "      <th></th>\n",
       "      <th>pickup_location_id</th>\n",
       "      <th>predicted_demand</th>\n",
       "      <th>pickup_hour</th>\n",
       "    </tr>\n",
       "  </thead>\n",
       "  <tbody>\n",
       "    <tr>\n",
       "      <th>7028</th>\n",
       "      <td>194</td>\n",
       "      <td>0.0</td>\n",
       "      <td>2025-03-04 20:00:00+00:00</td>\n",
       "    </tr>\n",
       "    <tr>\n",
       "      <th>7029</th>\n",
       "      <td>208</td>\n",
       "      <td>0.0</td>\n",
       "      <td>2025-03-04 20:00:00+00:00</td>\n",
       "    </tr>\n",
       "    <tr>\n",
       "      <th>7030</th>\n",
       "      <td>78</td>\n",
       "      <td>0.0</td>\n",
       "      <td>2025-03-04 20:00:00+00:00</td>\n",
       "    </tr>\n",
       "    <tr>\n",
       "      <th>7031</th>\n",
       "      <td>79</td>\n",
       "      <td>55.0</td>\n",
       "      <td>2025-03-04 20:00:00+00:00</td>\n",
       "    </tr>\n",
       "    <tr>\n",
       "      <th>7032</th>\n",
       "      <td>138</td>\n",
       "      <td>171.0</td>\n",
       "      <td>2025-03-04 20:00:00+00:00</td>\n",
       "    </tr>\n",
       "    <tr>\n",
       "      <th>...</th>\n",
       "      <td>...</td>\n",
       "      <td>...</td>\n",
       "      <td>...</td>\n",
       "    </tr>\n",
       "    <tr>\n",
       "      <th>7274</th>\n",
       "      <td>50</td>\n",
       "      <td>29.0</td>\n",
       "      <td>2025-03-04 20:00:00+00:00</td>\n",
       "    </tr>\n",
       "    <tr>\n",
       "      <th>7275</th>\n",
       "      <td>235</td>\n",
       "      <td>0.0</td>\n",
       "      <td>2025-03-04 20:00:00+00:00</td>\n",
       "    </tr>\n",
       "    <tr>\n",
       "      <th>7276</th>\n",
       "      <td>36</td>\n",
       "      <td>0.0</td>\n",
       "      <td>2025-03-04 20:00:00+00:00</td>\n",
       "    </tr>\n",
       "    <tr>\n",
       "      <th>7277</th>\n",
       "      <td>137</td>\n",
       "      <td>39.0</td>\n",
       "      <td>2025-03-04 20:00:00+00:00</td>\n",
       "    </tr>\n",
       "    <tr>\n",
       "      <th>7278</th>\n",
       "      <td>185</td>\n",
       "      <td>0.0</td>\n",
       "      <td>2025-03-04 20:00:00+00:00</td>\n",
       "    </tr>\n",
       "  </tbody>\n",
       "</table>\n",
       "<p>251 rows × 3 columns</p>\n",
       "</div>"
      ]
     },
     "execution_count": 12,
     "metadata": {},
     "output_type": "execute_result"
    }
   ],
   "execution_count": 12
  },
  {
   "cell_type": "code",
   "id": "48c2c460-25c6-4c26-84e8-ae82a1fdcf33",
   "metadata": {
    "ExecuteTime": {
     "end_time": "2025-03-04T19:44:18.657457Z",
     "start_time": "2025-03-04T19:44:18.632488Z"
    }
   },
   "source": [
    "df.info()"
   ],
   "outputs": [
    {
     "name": "stdout",
     "output_type": "stream",
     "text": [
      "<class 'pandas.core.frame.DataFrame'>\n",
      "RangeIndex: 7279 entries, 0 to 7278\n",
      "Data columns (total 3 columns):\n",
      " #   Column              Non-Null Count  Dtype                  \n",
      "---  ------              --------------  -----                  \n",
      " 0   pickup_location_id  7279 non-null   int32                  \n",
      " 1   predicted_demand    7279 non-null   float64                \n",
      " 2   pickup_hour         7279 non-null   datetime64[us, Etc/UTC]\n",
      "dtypes: datetime64[us, Etc/UTC](1), float64(1), int32(1)\n",
      "memory usage: 142.3 KB\n"
     ]
    }
   ],
   "execution_count": 13
  },
  {
   "cell_type": "code",
   "id": "5930b159-b4e4-4b51-acd9-0b7b167b6236",
   "metadata": {
    "ExecuteTime": {
     "end_time": "2025-03-04T19:44:20.413266Z",
     "start_time": "2025-03-04T19:44:20.387530Z"
    }
   },
   "source": [
    "import pandas as pd\n",
    "current_date = pd.Timestamp.now(tz='Etc/UTC').ceil('h')"
   ],
   "outputs": [],
   "execution_count": 14
  },
  {
   "cell_type": "code",
   "id": "14cb7cca-beba-4017-9fa0-5ad7b6acfe90",
   "metadata": {
    "ExecuteTime": {
     "end_time": "2025-03-04T19:44:21.980920Z",
     "start_time": "2025-03-04T19:44:21.956134Z"
    }
   },
   "source": [
    "dt = current_date.ceil('h')\n"
   ],
   "outputs": [],
   "execution_count": 15
  },
  {
   "cell_type": "code",
   "id": "455e4d11-8a5a-434c-b634-bbf9edd02bd7",
   "metadata": {
    "ExecuteTime": {
     "end_time": "2025-03-04T19:44:32.154471Z",
     "start_time": "2025-03-04T19:44:25.522622Z"
    }
   },
   "source": [
    "fs = get_feature_store()  \n",
    "fg = fs.get_feature_group(  \n",
    "    name=config.FEATURE_GROUP_MODEL_PREDICTION,  \n",
    "    version=1  \n",
    ")  \n",
    "query = fg.select_all() \n",
    "# query = query.filter(fg.pickup_hour >= \"2025-02-13 04:00\")\n",
    "query = query.filter(fg.pickup_hour > \"2025-02-13 05:00:00\")  \n",
    "results = query.read()"
   ],
   "outputs": [
    {
     "name": "stdout",
     "output_type": "stream",
     "text": [
      "2025-03-04 14:44:25,546 INFO: Closing external client and cleaning up certificates.\n",
      "Connection closed.\n",
      "2025-03-04 14:44:25,548 INFO: Initializing external client\n",
      "2025-03-04 14:44:25,548 INFO: Base URL: https://c.app.hopsworks.ai:443\n",
      "2025-03-04 14:44:26,236 INFO: Python Engine initialized.\n",
      "\n",
      "Logged in to project, explore it here https://c.app.hopsworks.ai:443/p/1215651\n",
      "Finished: Reading data from Hopsworks, using Hopsworks Feature Query Service (0.53s) \n"
     ]
    }
   ],
   "execution_count": 16
  },
  {
   "cell_type": "code",
   "id": "fab34fc8-2594-4dfd-8046-fa7ede562979",
   "metadata": {
    "ExecuteTime": {
     "end_time": "2025-03-04T19:44:40.576240Z",
     "start_time": "2025-03-04T19:44:34.758948Z"
    }
   },
   "source": [
    "fg.filter((fg.pickup_hour >= \"2025-02-13\") & (fg.pickup_hour < \"2025-02-14\")).read()"
   ],
   "outputs": [
    {
     "name": "stdout",
     "output_type": "stream",
     "text": [
      "Finished: Reading data from Hopsworks, using Hopsworks Feature Query Service (5.42s) from Hopsworks, using Hopsworks Feature Query Service.   Reading data from Hopsworks, using Hopsworks Feature Query Service...   Reading data from Hopsworks, using Hopsworks Feature Query Service.   Reading data from Hopsworks, using Hopsworks Feature Query Service...   \n"
     ]
    },
    {
     "data": {
      "text/plain": [
       "Empty DataFrame\n",
       "Columns: [pickup_location_id, predicted_demand, pickup_hour]\n",
       "Index: []"
      ],
      "text/html": [
       "<div>\n",
       "<style scoped>\n",
       "    .dataframe tbody tr th:only-of-type {\n",
       "        vertical-align: middle;\n",
       "    }\n",
       "\n",
       "    .dataframe tbody tr th {\n",
       "        vertical-align: top;\n",
       "    }\n",
       "\n",
       "    .dataframe thead th {\n",
       "        text-align: right;\n",
       "    }\n",
       "</style>\n",
       "<table border=\"1\" class=\"dataframe\">\n",
       "  <thead>\n",
       "    <tr style=\"text-align: right;\">\n",
       "      <th></th>\n",
       "      <th>pickup_location_id</th>\n",
       "      <th>predicted_demand</th>\n",
       "      <th>pickup_hour</th>\n",
       "    </tr>\n",
       "  </thead>\n",
       "  <tbody>\n",
       "  </tbody>\n",
       "</table>\n",
       "</div>"
      ]
     },
     "execution_count": 17,
     "metadata": {},
     "output_type": "execute_result"
    }
   ],
   "execution_count": 17
  },
  {
   "cell_type": "code",
   "id": "bb732f4b-65ee-4956-87b5-c9a9c2f367b3",
   "metadata": {
    "ExecuteTime": {
     "end_time": "2025-03-04T19:44:43.095626Z",
     "start_time": "2025-03-04T19:44:43.067964Z"
    }
   },
   "source": [
    "results"
   ],
   "outputs": [
    {
     "data": {
      "text/plain": [
       "      pickup_location_id  predicted_demand               pickup_hour\n",
       "0                    254               0.0 2025-03-03 06:00:00+00:00\n",
       "1                     68             129.0 2025-03-03 06:00:00+00:00\n",
       "2                    207               0.0 2025-03-03 06:00:00+00:00\n",
       "3                    202               0.0 2025-03-03 06:00:00+00:00\n",
       "4                     91               0.0 2025-03-03 06:00:00+00:00\n",
       "...                  ...               ...                       ...\n",
       "7274                  50              29.0 2025-03-04 20:00:00+00:00\n",
       "7275                 235               0.0 2025-03-04 20:00:00+00:00\n",
       "7276                  36               0.0 2025-03-04 20:00:00+00:00\n",
       "7277                 137              39.0 2025-03-04 20:00:00+00:00\n",
       "7278                 185               0.0 2025-03-04 20:00:00+00:00\n",
       "\n",
       "[7279 rows x 3 columns]"
      ],
      "text/html": [
       "<div>\n",
       "<style scoped>\n",
       "    .dataframe tbody tr th:only-of-type {\n",
       "        vertical-align: middle;\n",
       "    }\n",
       "\n",
       "    .dataframe tbody tr th {\n",
       "        vertical-align: top;\n",
       "    }\n",
       "\n",
       "    .dataframe thead th {\n",
       "        text-align: right;\n",
       "    }\n",
       "</style>\n",
       "<table border=\"1\" class=\"dataframe\">\n",
       "  <thead>\n",
       "    <tr style=\"text-align: right;\">\n",
       "      <th></th>\n",
       "      <th>pickup_location_id</th>\n",
       "      <th>predicted_demand</th>\n",
       "      <th>pickup_hour</th>\n",
       "    </tr>\n",
       "  </thead>\n",
       "  <tbody>\n",
       "    <tr>\n",
       "      <th>0</th>\n",
       "      <td>254</td>\n",
       "      <td>0.0</td>\n",
       "      <td>2025-03-03 06:00:00+00:00</td>\n",
       "    </tr>\n",
       "    <tr>\n",
       "      <th>1</th>\n",
       "      <td>68</td>\n",
       "      <td>129.0</td>\n",
       "      <td>2025-03-03 06:00:00+00:00</td>\n",
       "    </tr>\n",
       "    <tr>\n",
       "      <th>2</th>\n",
       "      <td>207</td>\n",
       "      <td>0.0</td>\n",
       "      <td>2025-03-03 06:00:00+00:00</td>\n",
       "    </tr>\n",
       "    <tr>\n",
       "      <th>3</th>\n",
       "      <td>202</td>\n",
       "      <td>0.0</td>\n",
       "      <td>2025-03-03 06:00:00+00:00</td>\n",
       "    </tr>\n",
       "    <tr>\n",
       "      <th>4</th>\n",
       "      <td>91</td>\n",
       "      <td>0.0</td>\n",
       "      <td>2025-03-03 06:00:00+00:00</td>\n",
       "    </tr>\n",
       "    <tr>\n",
       "      <th>...</th>\n",
       "      <td>...</td>\n",
       "      <td>...</td>\n",
       "      <td>...</td>\n",
       "    </tr>\n",
       "    <tr>\n",
       "      <th>7274</th>\n",
       "      <td>50</td>\n",
       "      <td>29.0</td>\n",
       "      <td>2025-03-04 20:00:00+00:00</td>\n",
       "    </tr>\n",
       "    <tr>\n",
       "      <th>7275</th>\n",
       "      <td>235</td>\n",
       "      <td>0.0</td>\n",
       "      <td>2025-03-04 20:00:00+00:00</td>\n",
       "    </tr>\n",
       "    <tr>\n",
       "      <th>7276</th>\n",
       "      <td>36</td>\n",
       "      <td>0.0</td>\n",
       "      <td>2025-03-04 20:00:00+00:00</td>\n",
       "    </tr>\n",
       "    <tr>\n",
       "      <th>7277</th>\n",
       "      <td>137</td>\n",
       "      <td>39.0</td>\n",
       "      <td>2025-03-04 20:00:00+00:00</td>\n",
       "    </tr>\n",
       "    <tr>\n",
       "      <th>7278</th>\n",
       "      <td>185</td>\n",
       "      <td>0.0</td>\n",
       "      <td>2025-03-04 20:00:00+00:00</td>\n",
       "    </tr>\n",
       "  </tbody>\n",
       "</table>\n",
       "<p>7279 rows × 3 columns</p>\n",
       "</div>"
      ]
     },
     "execution_count": 18,
     "metadata": {},
     "output_type": "execute_result"
    }
   ],
   "execution_count": 18
  },
  {
   "cell_type": "code",
   "id": "3015ad82-b0b7-42e0-b6e3-6e69550da93a",
   "metadata": {
    "ExecuteTime": {
     "end_time": "2025-03-04T19:44:45.714196Z",
     "start_time": "2025-03-04T19:44:45.687413Z"
    }
   },
   "source": [
    "def fetch_next_hour_predictions():\n",
    "    # Get current UTC time and round up to next hour\n",
    "    now = datetime.now(timezone.utc)\n",
    "    next_hour = (now + timedelta(hours=1)).replace(minute=0, second=0, microsecond=0)\n",
    "\n",
    "    fs = get_feature_store()\n",
    "    fg = fs.get_feature_group(name=config.FEATURE_GROUP_MODEL_PREDICTION, version=1)\n",
    "\n",
    "    # Then filter for next hour in the DataFrame\n",
    "    df_hour = df[df[\"pickup_hour\"] == next_hour]\n",
    "\n",
    "    print(f\"Current UTC time: {now}\")\n",
    "    print(f\"Next hour: {next_hour}\")\n",
    "    print(f\"Found {len(df_hour)} records\")\n",
    "    return df_hour"
   ],
   "outputs": [],
   "execution_count": 19
  },
  {
   "cell_type": "code",
   "id": "1a42dc2b-f1b3-40a2-8610-1bed9c822355",
   "metadata": {
    "ExecuteTime": {
     "end_time": "2025-03-04T19:44:50.800603Z",
     "start_time": "2025-03-04T19:44:49.212720Z"
    }
   },
   "source": [
    "predictions = fetch_next_hour_predictions()"
   ],
   "outputs": [
    {
     "name": "stdout",
     "output_type": "stream",
     "text": [
      "2025-03-04 14:44:49,235 INFO: Closing external client and cleaning up certificates.\n",
      "Connection closed.\n",
      "2025-03-04 14:44:49,238 INFO: Initializing external client\n",
      "2025-03-04 14:44:49,239 INFO: Base URL: https://c.app.hopsworks.ai:443\n",
      "2025-03-04 14:44:49,903 INFO: Python Engine initialized.\n",
      "\n",
      "Logged in to project, explore it here https://c.app.hopsworks.ai:443/p/1215651\n",
      "Current UTC time: 2025-03-04 19:44:49.235244+00:00\n",
      "Next hour: 2025-03-04 20:00:00+00:00\n",
      "Found 251 records\n"
     ]
    }
   ],
   "execution_count": 20
  },
  {
   "cell_type": "code",
   "id": "6495da67-1068-41e0-9092-458c11626900",
   "metadata": {
    "ExecuteTime": {
     "end_time": "2025-03-04T19:44:54.556661Z",
     "start_time": "2025-03-04T19:44:53.292438Z"
    }
   },
   "source": [
    "fs = get_feature_store()\n",
    "fg = fs.get_feature_group(name=config.FEATURE_GROUP_MODEL_PREDICTION, version=1)\n",
    "\n"
   ],
   "outputs": [
    {
     "name": "stdout",
     "output_type": "stream",
     "text": [
      "2025-03-04 14:44:53,317 INFO: Closing external client and cleaning up certificates.\n",
      "Connection closed.\n",
      "2025-03-04 14:44:53,319 INFO: Initializing external client\n",
      "2025-03-04 14:44:53,319 INFO: Base URL: https://c.app.hopsworks.ai:443\n",
      "2025-03-04 14:44:53,827 INFO: Python Engine initialized.\n",
      "\n",
      "Logged in to project, explore it here https://c.app.hopsworks.ai:443/p/1215651\n"
     ]
    }
   ],
   "execution_count": 21
  },
  {
   "cell_type": "code",
   "id": "9761c899-38c7-4560-9226-d41ce20811df",
   "metadata": {
    "ExecuteTime": {
     "end_time": "2025-03-04T19:45:02.255236Z",
     "start_time": "2025-03-04T19:44:56.592688Z"
    }
   },
   "source": [
    "df = fg.read()"
   ],
   "outputs": [
    {
     "name": "stdout",
     "output_type": "stream",
     "text": [
      "Finished: Reading data from Hopsworks, using Hopsworks Feature Query Service (0.62s) \n"
     ]
    }
   ],
   "execution_count": 22
  },
  {
   "cell_type": "code",
   "id": "90052c02-a072-423f-95d5-086c1ca786eb",
   "metadata": {
    "ExecuteTime": {
     "end_time": "2025-03-04T19:45:04.346663Z",
     "start_time": "2025-03-04T19:45:04.321807Z"
    }
   },
   "source": [
    "df[\"pickup_hour\"].max()"
   ],
   "outputs": [
    {
     "data": {
      "text/plain": [
       "Timestamp('2025-03-04 20:00:00+0000', tz='Etc/UTC')"
      ]
     },
     "execution_count": 23,
     "metadata": {},
     "output_type": "execute_result"
    }
   ],
   "execution_count": 23
  },
  {
   "cell_type": "code",
   "id": "30f5c3e8-156e-44a5-ac8a-ccb1479a6936",
   "metadata": {
    "ExecuteTime": {
     "end_time": "2025-03-04T19:45:06.404877Z",
     "start_time": "2025-03-04T19:45:06.379827Z"
    }
   },
   "source": [
    "now = datetime.now(timezone.utc)\n",
    "next_hour = (now + timedelta(hours=1)).replace(minute=0, second=0, microsecond=0)\n",
    "print(next_hour)"
   ],
   "outputs": [
    {
     "name": "stdout",
     "output_type": "stream",
     "text": [
      "2025-03-04 20:00:00+00:00\n"
     ]
    }
   ],
   "execution_count": 24
  },
  {
   "cell_type": "code",
   "id": "02ebe046-ae58-489e-99e7-a4f27755a10f",
   "metadata": {
    "ExecuteTime": {
     "end_time": "2025-03-04T19:45:08.213975Z",
     "start_time": "2025-03-04T19:45:08.186423Z"
    }
   },
   "source": [
    "df[df[\"pickup_hour\"] == next_hour]"
   ],
   "outputs": [
    {
     "data": {
      "text/plain": [
       "      pickup_location_id  predicted_demand               pickup_hour\n",
       "7028                 194               0.0 2025-03-04 20:00:00+00:00\n",
       "7029                 208               0.0 2025-03-04 20:00:00+00:00\n",
       "7030                  78               0.0 2025-03-04 20:00:00+00:00\n",
       "7031                  79              55.0 2025-03-04 20:00:00+00:00\n",
       "7032                 138             171.0 2025-03-04 20:00:00+00:00\n",
       "...                  ...               ...                       ...\n",
       "7274                  50              29.0 2025-03-04 20:00:00+00:00\n",
       "7275                 235               0.0 2025-03-04 20:00:00+00:00\n",
       "7276                  36               0.0 2025-03-04 20:00:00+00:00\n",
       "7277                 137              39.0 2025-03-04 20:00:00+00:00\n",
       "7278                 185               0.0 2025-03-04 20:00:00+00:00\n",
       "\n",
       "[251 rows x 3 columns]"
      ],
      "text/html": [
       "<div>\n",
       "<style scoped>\n",
       "    .dataframe tbody tr th:only-of-type {\n",
       "        vertical-align: middle;\n",
       "    }\n",
       "\n",
       "    .dataframe tbody tr th {\n",
       "        vertical-align: top;\n",
       "    }\n",
       "\n",
       "    .dataframe thead th {\n",
       "        text-align: right;\n",
       "    }\n",
       "</style>\n",
       "<table border=\"1\" class=\"dataframe\">\n",
       "  <thead>\n",
       "    <tr style=\"text-align: right;\">\n",
       "      <th></th>\n",
       "      <th>pickup_location_id</th>\n",
       "      <th>predicted_demand</th>\n",
       "      <th>pickup_hour</th>\n",
       "    </tr>\n",
       "  </thead>\n",
       "  <tbody>\n",
       "    <tr>\n",
       "      <th>7028</th>\n",
       "      <td>194</td>\n",
       "      <td>0.0</td>\n",
       "      <td>2025-03-04 20:00:00+00:00</td>\n",
       "    </tr>\n",
       "    <tr>\n",
       "      <th>7029</th>\n",
       "      <td>208</td>\n",
       "      <td>0.0</td>\n",
       "      <td>2025-03-04 20:00:00+00:00</td>\n",
       "    </tr>\n",
       "    <tr>\n",
       "      <th>7030</th>\n",
       "      <td>78</td>\n",
       "      <td>0.0</td>\n",
       "      <td>2025-03-04 20:00:00+00:00</td>\n",
       "    </tr>\n",
       "    <tr>\n",
       "      <th>7031</th>\n",
       "      <td>79</td>\n",
       "      <td>55.0</td>\n",
       "      <td>2025-03-04 20:00:00+00:00</td>\n",
       "    </tr>\n",
       "    <tr>\n",
       "      <th>7032</th>\n",
       "      <td>138</td>\n",
       "      <td>171.0</td>\n",
       "      <td>2025-03-04 20:00:00+00:00</td>\n",
       "    </tr>\n",
       "    <tr>\n",
       "      <th>...</th>\n",
       "      <td>...</td>\n",
       "      <td>...</td>\n",
       "      <td>...</td>\n",
       "    </tr>\n",
       "    <tr>\n",
       "      <th>7274</th>\n",
       "      <td>50</td>\n",
       "      <td>29.0</td>\n",
       "      <td>2025-03-04 20:00:00+00:00</td>\n",
       "    </tr>\n",
       "    <tr>\n",
       "      <th>7275</th>\n",
       "      <td>235</td>\n",
       "      <td>0.0</td>\n",
       "      <td>2025-03-04 20:00:00+00:00</td>\n",
       "    </tr>\n",
       "    <tr>\n",
       "      <th>7276</th>\n",
       "      <td>36</td>\n",
       "      <td>0.0</td>\n",
       "      <td>2025-03-04 20:00:00+00:00</td>\n",
       "    </tr>\n",
       "    <tr>\n",
       "      <th>7277</th>\n",
       "      <td>137</td>\n",
       "      <td>39.0</td>\n",
       "      <td>2025-03-04 20:00:00+00:00</td>\n",
       "    </tr>\n",
       "    <tr>\n",
       "      <th>7278</th>\n",
       "      <td>185</td>\n",
       "      <td>0.0</td>\n",
       "      <td>2025-03-04 20:00:00+00:00</td>\n",
       "    </tr>\n",
       "  </tbody>\n",
       "</table>\n",
       "<p>251 rows × 3 columns</p>\n",
       "</div>"
      ]
     },
     "execution_count": 25,
     "metadata": {},
     "output_type": "execute_result"
    }
   ],
   "execution_count": 25
  }
 ],
 "metadata": {
  "kernelspec": {
   "display_name": "Python 3 (ipykernel)",
   "language": "python",
   "name": "python3"
  },
  "language_info": {
   "codemirror_mode": {
    "name": "ipython",
    "version": 3
   },
   "file_extension": ".py",
   "mimetype": "text/x-python",
   "name": "python",
   "nbconvert_exporter": "python",
   "pygments_lexer": "ipython3",
   "version": "3.11.11"
  }
 },
 "nbformat": 4,
 "nbformat_minor": 5
}
