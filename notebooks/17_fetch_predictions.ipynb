{
 "cells": [
  {
   "cell_type": "code",
   "id": "1555e775-4045-409a-a2cd-b22934b5fe3b",
   "metadata": {
    "ExecuteTime": {
     "end_time": "2025-03-03T07:17:06.233303Z",
     "start_time": "2025-03-03T07:17:06.224376Z"
    }
   },
   "source": [
    "%load_ext autoreload\n",
    "%autoreload 2"
   ],
   "outputs": [],
   "execution_count": 1
  },
  {
   "cell_type": "code",
   "id": "15e2d67e-a5c7-453c-84e8-a210c608e9f0",
   "metadata": {
    "ExecuteTime": {
     "end_time": "2025-03-03T07:17:07.352987Z",
     "start_time": "2025-03-03T07:17:07.337153Z"
    }
   },
   "source": [
    "import sys\n",
    "import os\n",
    "\n",
    "# Add the parent directory to the Python path\n",
    "sys.path.append(os.path.abspath(os.path.join(os.getcwd(), \"..\")))\n",
    "import src.config as config"
   ],
   "outputs": [],
   "execution_count": 2
  },
  {
   "cell_type": "code",
   "id": "05248d6f-2194-48dd-a582-77cbda1ad16c",
   "metadata": {
    "ExecuteTime": {
     "end_time": "2025-03-03T07:17:09.899441Z",
     "start_time": "2025-03-03T07:17:09.320652Z"
    }
   },
   "source": [
    "import src.config as config\n",
    "from src.inference import (\n",
    "    get_feature_store\n",
    ")\n",
    "\n",
    "from datetime import datetime, timezone, timedelta\n",
    "\n",
    "def get_current_utc_hour_ceiled():\n",
    "    \"\"\"Get current UTC time ceiled to the next hour\"\"\"\n",
    "    current = datetime.now(timezone.utc)\n",
    "    if current.minute > 0 or current.second > 0:\n",
    "        # Ceil to next hour\n",
    "        current = current + timedelta(hours=1)\n",
    "\n",
    "    # Reset minutes, seconds, and microseconds\n",
    "    current = current.replace(minute=0, second=0, microsecond=0)\n",
    "    return current\n",
    "\n",
    "# Usage\n",
    "current_hour = get_current_utc_hour_ceiled()\n",
    "print(f\"Current UTC hour (ceiled): {current_hour}\")"
   ],
   "outputs": [
    {
     "name": "stdout",
     "output_type": "stream",
     "text": [
      "Current UTC hour (ceiled): 2025-03-03 08:00:00+00:00\n"
     ]
    }
   ],
   "execution_count": 3
  },
  {
   "cell_type": "code",
   "id": "5c5559a0-89e2-458d-9bbc-b1ec103659f6",
   "metadata": {
    "ExecuteTime": {
     "end_time": "2025-03-03T07:17:13.103483Z",
     "start_time": "2025-03-03T07:17:13.086206Z"
    }
   },
   "source": [
    "def fetch_predictions():\n",
    "    current_date = pd.Timestamp.now(tz='Etc/UTC').ceil('h')\n",
    "\n",
    "    fs = get_feature_store()\n",
    "    fg = fs.get_feature_group(\n",
    "        name=config.FEATURE_GROUP_MODEL_PREDICTION,\n",
    "        version=1\n",
    "    )\n",
    "\n",
    "    query = fg.select_all()\n",
    "    query = query.filter(fg.pickup_hour == current_hour)\n",
    "\n",
    "    return query.read()"
   ],
   "outputs": [],
   "execution_count": 4
  },
  {
   "cell_type": "code",
   "id": "53a3af64-b773-43a6-bb10-c9e209cc6cb0",
   "metadata": {
    "ExecuteTime": {
     "end_time": "2025-03-03T07:17:17.142368Z",
     "start_time": "2025-03-03T07:17:15.191748Z"
    }
   },
   "source": [
    "fs = get_feature_store()\n",
    "fg = fs.get_feature_group(\n",
    "    name=config.FEATURE_GROUP_MODEL_PREDICTION,\n",
    "    version=1\n",
    ")\n",
    "\n",
    "query = fg.select_all()"
   ],
   "outputs": [
    {
     "name": "stdout",
     "output_type": "stream",
     "text": [
      "2025-03-03 02:17:15,208 INFO: Initializing external client\n",
      "2025-03-03 02:17:15,209 INFO: Base URL: https://c.app.hopsworks.ai:443\n",
      "2025-03-03 02:17:16,096 INFO: Python Engine initialized.\n",
      "\n",
      "Logged in to project, explore it here https://c.app.hopsworks.ai:443/p/1215651\n"
     ]
    }
   ],
   "execution_count": 5
  },
  {
   "cell_type": "code",
   "id": "c6321059-d894-4f75-94c8-b4ea29bf8ea5",
   "metadata": {
    "ExecuteTime": {
     "end_time": "2025-03-03T07:17:24.863696Z",
     "start_time": "2025-03-03T07:17:19.222772Z"
    }
   },
   "source": [
    "df= query.read()"
   ],
   "outputs": [
    {
     "name": "stdout",
     "output_type": "stream",
     "text": [
      "Finished: Reading data from Hopsworks, using Hopsworks Feature Query Service (0.78s) \n"
     ]
    }
   ],
   "execution_count": 6
  },
  {
   "cell_type": "code",
   "execution_count": null,
   "id": "367f3978-9a5d-4d97-b19a-88afcfb1d14f",
   "metadata": {},
   "outputs": [],
   "source": []
  },
  {
   "cell_type": "code",
   "id": "8d03786a-90dc-425a-8e4e-3b4dca4a08fa",
   "metadata": {
    "ExecuteTime": {
     "end_time": "2025-03-03T07:17:26.709601Z",
     "start_time": "2025-03-03T07:17:26.686340Z"
    }
   },
   "source": [
    "df"
   ],
   "outputs": [
    {
     "data": {
      "text/plain": [
       "     pickup_location_id  predicted_demand               pickup_hour\n",
       "0                   254               0.0 2025-03-03 06:00:00+00:00\n",
       "1                    68             129.0 2025-03-03 06:00:00+00:00\n",
       "2                   207               0.0 2025-03-03 06:00:00+00:00\n",
       "3                   202               0.0 2025-03-03 06:00:00+00:00\n",
       "4                    91               0.0 2025-03-03 06:00:00+00:00\n",
       "..                  ...               ...                       ...\n",
       "748                 125              24.0 2025-03-03 08:00:00+00:00\n",
       "749                 173               0.0 2025-03-03 08:00:00+00:00\n",
       "750                 218               1.0 2025-03-03 08:00:00+00:00\n",
       "751                  72               1.0 2025-03-03 08:00:00+00:00\n",
       "752                  24              16.0 2025-03-03 08:00:00+00:00\n",
       "\n",
       "[753 rows x 3 columns]"
      ],
      "text/html": [
       "<div>\n",
       "<style scoped>\n",
       "    .dataframe tbody tr th:only-of-type {\n",
       "        vertical-align: middle;\n",
       "    }\n",
       "\n",
       "    .dataframe tbody tr th {\n",
       "        vertical-align: top;\n",
       "    }\n",
       "\n",
       "    .dataframe thead th {\n",
       "        text-align: right;\n",
       "    }\n",
       "</style>\n",
       "<table border=\"1\" class=\"dataframe\">\n",
       "  <thead>\n",
       "    <tr style=\"text-align: right;\">\n",
       "      <th></th>\n",
       "      <th>pickup_location_id</th>\n",
       "      <th>predicted_demand</th>\n",
       "      <th>pickup_hour</th>\n",
       "    </tr>\n",
       "  </thead>\n",
       "  <tbody>\n",
       "    <tr>\n",
       "      <th>0</th>\n",
       "      <td>254</td>\n",
       "      <td>0.0</td>\n",
       "      <td>2025-03-03 06:00:00+00:00</td>\n",
       "    </tr>\n",
       "    <tr>\n",
       "      <th>1</th>\n",
       "      <td>68</td>\n",
       "      <td>129.0</td>\n",
       "      <td>2025-03-03 06:00:00+00:00</td>\n",
       "    </tr>\n",
       "    <tr>\n",
       "      <th>2</th>\n",
       "      <td>207</td>\n",
       "      <td>0.0</td>\n",
       "      <td>2025-03-03 06:00:00+00:00</td>\n",
       "    </tr>\n",
       "    <tr>\n",
       "      <th>3</th>\n",
       "      <td>202</td>\n",
       "      <td>0.0</td>\n",
       "      <td>2025-03-03 06:00:00+00:00</td>\n",
       "    </tr>\n",
       "    <tr>\n",
       "      <th>4</th>\n",
       "      <td>91</td>\n",
       "      <td>0.0</td>\n",
       "      <td>2025-03-03 06:00:00+00:00</td>\n",
       "    </tr>\n",
       "    <tr>\n",
       "      <th>...</th>\n",
       "      <td>...</td>\n",
       "      <td>...</td>\n",
       "      <td>...</td>\n",
       "    </tr>\n",
       "    <tr>\n",
       "      <th>748</th>\n",
       "      <td>125</td>\n",
       "      <td>24.0</td>\n",
       "      <td>2025-03-03 08:00:00+00:00</td>\n",
       "    </tr>\n",
       "    <tr>\n",
       "      <th>749</th>\n",
       "      <td>173</td>\n",
       "      <td>0.0</td>\n",
       "      <td>2025-03-03 08:00:00+00:00</td>\n",
       "    </tr>\n",
       "    <tr>\n",
       "      <th>750</th>\n",
       "      <td>218</td>\n",
       "      <td>1.0</td>\n",
       "      <td>2025-03-03 08:00:00+00:00</td>\n",
       "    </tr>\n",
       "    <tr>\n",
       "      <th>751</th>\n",
       "      <td>72</td>\n",
       "      <td>1.0</td>\n",
       "      <td>2025-03-03 08:00:00+00:00</td>\n",
       "    </tr>\n",
       "    <tr>\n",
       "      <th>752</th>\n",
       "      <td>24</td>\n",
       "      <td>16.0</td>\n",
       "      <td>2025-03-03 08:00:00+00:00</td>\n",
       "    </tr>\n",
       "  </tbody>\n",
       "</table>\n",
       "<p>753 rows × 3 columns</p>\n",
       "</div>"
      ]
     },
     "execution_count": 7,
     "metadata": {},
     "output_type": "execute_result"
    }
   ],
   "execution_count": 7
  },
  {
   "cell_type": "code",
   "id": "90415d0c-053a-4fba-94dd-eb6d231875bd",
   "metadata": {
    "ExecuteTime": {
     "end_time": "2025-03-03T07:17:29.451336Z",
     "start_time": "2025-03-03T07:17:29.226912Z"
    }
   },
   "source": [
    "a.info()"
   ],
   "outputs": [
    {
     "ename": "NameError",
     "evalue": "name 'a' is not defined",
     "output_type": "error",
     "traceback": [
      "\u001B[0;31m---------------------------------------------------------------------------\u001B[0m",
      "\u001B[0;31mNameError\u001B[0m                                 Traceback (most recent call last)",
      "Cell \u001B[0;32mIn[8], line 1\u001B[0m\n\u001B[0;32m----> 1\u001B[0m \u001B[43ma\u001B[49m\u001B[38;5;241m.\u001B[39minfo()\n",
      "\u001B[0;31mNameError\u001B[0m: name 'a' is not defined"
     ]
    }
   ],
   "execution_count": 8
  },
  {
   "cell_type": "code",
   "id": "39ea132b-5a59-44cb-b155-fa765164e3cc",
   "metadata": {
    "ExecuteTime": {
     "end_time": "2025-03-03T07:17:39.305475Z",
     "start_time": "2025-03-03T07:17:37.453964Z"
    }
   },
   "source": [
    "from datetime import datetime, timezone, timedelta\n",
    "\n",
    "def fetch_next_hour_predictions():\n",
    "    # Get current UTC time and round up to next hour\n",
    "    now = datetime.now(timezone.utc)\n",
    "    next_hour = (now + timedelta(hours=1)).replace(minute=0, second=0, microsecond=0)\n",
    "\n",
    "    # Extract components from the rounded-up time\n",
    "    year = next_hour.year\n",
    "    month = next_hour.month\n",
    "    day = next_hour.day\n",
    "    hour = next_hour.hour\n",
    "\n",
    "    # Create date strings in YYYY-MM-DD format\n",
    "    current_date = f\"{year}-{month:02d}-{day:02d}\"\n",
    "    next_date = next_hour + timedelta(days=1)\n",
    "    next_date_str = next_date.strftime(\"%Y-%m-%d\")\n",
    "\n",
    "    fs = get_feature_store()\n",
    "    fg = fs.get_feature_group(\n",
    "        name=config.FEATURE_GROUP_MODEL_PREDICTION,\n",
    "        version=1\n",
    "    )\n",
    "\n",
    "    # # First get the full day's data from Hopsworks\n",
    "    # df = fg.filter(\n",
    "    #     (fg.pickup_hour >= current_date) &\n",
    "    #     (fg.pickup_hour < next_date_str)\n",
    "    # ).read()\n",
    "\n",
    "    # Then filter for next hour in the DataFrame\n",
    "    hour_str = f\"{current_date} {hour:02d}:00\"\n",
    "    df_hour = df[df['pickup_hour'] == hour_str]\n",
    "\n",
    "    print(f\"Current UTC time: {now}\")\n",
    "    print(f\"Next hour: {next_hour}\")\n",
    "    print(f\"Querying for date range: {current_date} to {next_date_str}\")\n",
    "    print(f\"Filtering for hour: {hour_str}\")\n",
    "    print(f\"Found {len(df_hour)} records\")\n",
    "    return df_hour\n",
    "\n",
    "# Example usage:\n",
    "predictions = fetch_next_hour_predictions()"
   ],
   "outputs": [
    {
     "name": "stdout",
     "output_type": "stream",
     "text": [
      "2025-03-03 02:17:37,472 INFO: Closing external client and cleaning up certificates.\n",
      "Connection closed.\n",
      "2025-03-03 02:17:37,474 INFO: Initializing external client\n",
      "2025-03-03 02:17:37,475 INFO: Base URL: https://c.app.hopsworks.ai:443\n",
      "2025-03-03 02:17:38,253 INFO: Python Engine initialized.\n",
      "\n",
      "Logged in to project, explore it here https://c.app.hopsworks.ai:443/p/1215651\n",
      "Current UTC time: 2025-03-03 07:17:37.472382+00:00\n",
      "Next hour: 2025-03-03 08:00:00+00:00\n",
      "Querying for date range: 2025-03-03 to 2025-03-04\n",
      "Filtering for hour: 2025-03-03 08:00\n",
      "Found 251 records\n"
     ]
    }
   ],
   "execution_count": 9
  },
  {
   "cell_type": "code",
   "id": "4c512f98-d569-4a9f-8391-d301b1226c91",
   "metadata": {
    "ExecuteTime": {
     "end_time": "2025-03-03T07:17:43.388801Z",
     "start_time": "2025-03-03T07:17:43.368816Z"
    }
   },
   "source": [
    "now = datetime.now(timezone.utc)"
   ],
   "outputs": [],
   "execution_count": 10
  },
  {
   "cell_type": "code",
   "id": "0e5671d3-701d-4fca-bb91-a697f622239a",
   "metadata": {
    "ExecuteTime": {
     "end_time": "2025-03-03T07:17:45.164305Z",
     "start_time": "2025-03-03T07:17:45.144679Z"
    }
   },
   "source": [
    "predictions"
   ],
   "outputs": [
    {
     "data": {
      "text/plain": [
       "     pickup_location_id  predicted_demand               pickup_hour\n",
       "502                  46               0.0 2025-03-03 08:00:00+00:00\n",
       "503                 162             119.0 2025-03-03 08:00:00+00:00\n",
       "504                 261              15.0 2025-03-03 08:00:00+00:00\n",
       "505                 190               0.0 2025-03-03 08:00:00+00:00\n",
       "506                  18               0.0 2025-03-03 08:00:00+00:00\n",
       "..                  ...               ...                       ...\n",
       "748                 125              24.0 2025-03-03 08:00:00+00:00\n",
       "749                 173               0.0 2025-03-03 08:00:00+00:00\n",
       "750                 218               1.0 2025-03-03 08:00:00+00:00\n",
       "751                  72               1.0 2025-03-03 08:00:00+00:00\n",
       "752                  24              16.0 2025-03-03 08:00:00+00:00\n",
       "\n",
       "[251 rows x 3 columns]"
      ],
      "text/html": [
       "<div>\n",
       "<style scoped>\n",
       "    .dataframe tbody tr th:only-of-type {\n",
       "        vertical-align: middle;\n",
       "    }\n",
       "\n",
       "    .dataframe tbody tr th {\n",
       "        vertical-align: top;\n",
       "    }\n",
       "\n",
       "    .dataframe thead th {\n",
       "        text-align: right;\n",
       "    }\n",
       "</style>\n",
       "<table border=\"1\" class=\"dataframe\">\n",
       "  <thead>\n",
       "    <tr style=\"text-align: right;\">\n",
       "      <th></th>\n",
       "      <th>pickup_location_id</th>\n",
       "      <th>predicted_demand</th>\n",
       "      <th>pickup_hour</th>\n",
       "    </tr>\n",
       "  </thead>\n",
       "  <tbody>\n",
       "    <tr>\n",
       "      <th>502</th>\n",
       "      <td>46</td>\n",
       "      <td>0.0</td>\n",
       "      <td>2025-03-03 08:00:00+00:00</td>\n",
       "    </tr>\n",
       "    <tr>\n",
       "      <th>503</th>\n",
       "      <td>162</td>\n",
       "      <td>119.0</td>\n",
       "      <td>2025-03-03 08:00:00+00:00</td>\n",
       "    </tr>\n",
       "    <tr>\n",
       "      <th>504</th>\n",
       "      <td>261</td>\n",
       "      <td>15.0</td>\n",
       "      <td>2025-03-03 08:00:00+00:00</td>\n",
       "    </tr>\n",
       "    <tr>\n",
       "      <th>505</th>\n",
       "      <td>190</td>\n",
       "      <td>0.0</td>\n",
       "      <td>2025-03-03 08:00:00+00:00</td>\n",
       "    </tr>\n",
       "    <tr>\n",
       "      <th>506</th>\n",
       "      <td>18</td>\n",
       "      <td>0.0</td>\n",
       "      <td>2025-03-03 08:00:00+00:00</td>\n",
       "    </tr>\n",
       "    <tr>\n",
       "      <th>...</th>\n",
       "      <td>...</td>\n",
       "      <td>...</td>\n",
       "      <td>...</td>\n",
       "    </tr>\n",
       "    <tr>\n",
       "      <th>748</th>\n",
       "      <td>125</td>\n",
       "      <td>24.0</td>\n",
       "      <td>2025-03-03 08:00:00+00:00</td>\n",
       "    </tr>\n",
       "    <tr>\n",
       "      <th>749</th>\n",
       "      <td>173</td>\n",
       "      <td>0.0</td>\n",
       "      <td>2025-03-03 08:00:00+00:00</td>\n",
       "    </tr>\n",
       "    <tr>\n",
       "      <th>750</th>\n",
       "      <td>218</td>\n",
       "      <td>1.0</td>\n",
       "      <td>2025-03-03 08:00:00+00:00</td>\n",
       "    </tr>\n",
       "    <tr>\n",
       "      <th>751</th>\n",
       "      <td>72</td>\n",
       "      <td>1.0</td>\n",
       "      <td>2025-03-03 08:00:00+00:00</td>\n",
       "    </tr>\n",
       "    <tr>\n",
       "      <th>752</th>\n",
       "      <td>24</td>\n",
       "      <td>16.0</td>\n",
       "      <td>2025-03-03 08:00:00+00:00</td>\n",
       "    </tr>\n",
       "  </tbody>\n",
       "</table>\n",
       "<p>251 rows × 3 columns</p>\n",
       "</div>"
      ]
     },
     "execution_count": 11,
     "metadata": {},
     "output_type": "execute_result"
    }
   ],
   "execution_count": 11
  },
  {
   "cell_type": "code",
   "id": "48c2c460-25c6-4c26-84e8-ae82a1fdcf33",
   "metadata": {
    "ExecuteTime": {
     "end_time": "2025-03-03T07:17:47.789286Z",
     "start_time": "2025-03-03T07:17:47.765279Z"
    }
   },
   "source": [
    "df.info()"
   ],
   "outputs": [
    {
     "name": "stdout",
     "output_type": "stream",
     "text": [
      "<class 'pandas.core.frame.DataFrame'>\n",
      "RangeIndex: 753 entries, 0 to 752\n",
      "Data columns (total 3 columns):\n",
      " #   Column              Non-Null Count  Dtype                  \n",
      "---  ------              --------------  -----                  \n",
      " 0   pickup_location_id  753 non-null    int32                  \n",
      " 1   predicted_demand    753 non-null    float64                \n",
      " 2   pickup_hour         753 non-null    datetime64[us, Etc/UTC]\n",
      "dtypes: datetime64[us, Etc/UTC](1), float64(1), int32(1)\n",
      "memory usage: 14.8 KB\n"
     ]
    }
   ],
   "execution_count": 12
  },
  {
   "cell_type": "code",
   "id": "5930b159-b4e4-4b51-acd9-0b7b167b6236",
   "metadata": {
    "ExecuteTime": {
     "end_time": "2025-03-03T07:17:50.055962Z",
     "start_time": "2025-03-03T07:17:50.037967Z"
    }
   },
   "source": [
    "import pandas as pd\n",
    "current_date = pd.Timestamp.now(tz='Etc/UTC').ceil('h')"
   ],
   "outputs": [],
   "execution_count": 13
  },
  {
   "cell_type": "code",
   "id": "14cb7cca-beba-4017-9fa0-5ad7b6acfe90",
   "metadata": {
    "ExecuteTime": {
     "end_time": "2025-03-03T07:17:52.084204Z",
     "start_time": "2025-03-03T07:17:52.066255Z"
    }
   },
   "source": [
    "dt = current_date.ceil('h')\n"
   ],
   "outputs": [],
   "execution_count": 14
  },
  {
   "cell_type": "code",
   "id": "455e4d11-8a5a-434c-b634-bbf9edd02bd7",
   "metadata": {
    "ExecuteTime": {
     "end_time": "2025-03-03T07:17:56.928237Z",
     "start_time": "2025-03-03T07:17:53.651316Z"
    }
   },
   "source": [
    "fs = get_feature_store()  \n",
    "fg = fs.get_feature_group(  \n",
    "    name=config.FEATURE_GROUP_MODEL_PREDICTION,  \n",
    "    version=1  \n",
    ")  \n",
    "query = fg.select_all() \n",
    "# query = query.filter(fg.pickup_hour >= \"2025-02-13 04:00\")\n",
    "query = query.filter(fg.pickup_hour > \"2025-02-13 05:00:00\")  \n",
    "results = query.read()"
   ],
   "outputs": [
    {
     "name": "stdout",
     "output_type": "stream",
     "text": [
      "2025-03-03 02:17:53,669 INFO: Closing external client and cleaning up certificates.\n",
      "Connection closed.\n",
      "2025-03-03 02:17:53,671 INFO: Initializing external client\n",
      "2025-03-03 02:17:53,671 INFO: Base URL: https://c.app.hopsworks.ai:443\n",
      "2025-03-03 02:17:54,462 INFO: Python Engine initialized.\n",
      "\n",
      "Logged in to project, explore it here https://c.app.hopsworks.ai:443/p/1215651\n",
      "Finished: Reading data from Hopsworks, using Hopsworks Feature Query Service (0.47s) \n"
     ]
    }
   ],
   "execution_count": 15
  },
  {
   "cell_type": "code",
   "id": "fab34fc8-2594-4dfd-8046-fa7ede562979",
   "metadata": {
    "ExecuteTime": {
     "end_time": "2025-03-03T07:17:59.768469Z",
     "start_time": "2025-03-03T07:17:58.897133Z"
    }
   },
   "source": [
    "fg.filter((fg.pickup_hour >= \"2025-02-13\") & (fg.pickup_hour < \"2025-02-14\")).read()"
   ],
   "outputs": [
    {
     "name": "stdout",
     "output_type": "stream",
     "text": [
      "Finished: Reading data from Hopsworks, using Hopsworks Feature Query Service (0.42s) \n"
     ]
    },
    {
     "data": {
      "text/plain": [
       "Empty DataFrame\n",
       "Columns: [pickup_location_id, predicted_demand, pickup_hour]\n",
       "Index: []"
      ],
      "text/html": [
       "<div>\n",
       "<style scoped>\n",
       "    .dataframe tbody tr th:only-of-type {\n",
       "        vertical-align: middle;\n",
       "    }\n",
       "\n",
       "    .dataframe tbody tr th {\n",
       "        vertical-align: top;\n",
       "    }\n",
       "\n",
       "    .dataframe thead th {\n",
       "        text-align: right;\n",
       "    }\n",
       "</style>\n",
       "<table border=\"1\" class=\"dataframe\">\n",
       "  <thead>\n",
       "    <tr style=\"text-align: right;\">\n",
       "      <th></th>\n",
       "      <th>pickup_location_id</th>\n",
       "      <th>predicted_demand</th>\n",
       "      <th>pickup_hour</th>\n",
       "    </tr>\n",
       "  </thead>\n",
       "  <tbody>\n",
       "  </tbody>\n",
       "</table>\n",
       "</div>"
      ]
     },
     "execution_count": 16,
     "metadata": {},
     "output_type": "execute_result"
    }
   ],
   "execution_count": 16
  },
  {
   "cell_type": "code",
   "id": "bb732f4b-65ee-4956-87b5-c9a9c2f367b3",
   "metadata": {
    "ExecuteTime": {
     "end_time": "2025-03-03T07:18:03.851981Z",
     "start_time": "2025-03-03T07:18:03.829981Z"
    }
   },
   "source": [
    "results"
   ],
   "outputs": [
    {
     "data": {
      "text/plain": [
       "     pickup_location_id  predicted_demand               pickup_hour\n",
       "0                   254               0.0 2025-03-03 06:00:00+00:00\n",
       "1                    68             129.0 2025-03-03 06:00:00+00:00\n",
       "2                   207               0.0 2025-03-03 06:00:00+00:00\n",
       "3                   202               0.0 2025-03-03 06:00:00+00:00\n",
       "4                    91               0.0 2025-03-03 06:00:00+00:00\n",
       "..                  ...               ...                       ...\n",
       "748                 125              24.0 2025-03-03 08:00:00+00:00\n",
       "749                 173               0.0 2025-03-03 08:00:00+00:00\n",
       "750                 218               1.0 2025-03-03 08:00:00+00:00\n",
       "751                  72               1.0 2025-03-03 08:00:00+00:00\n",
       "752                  24              16.0 2025-03-03 08:00:00+00:00\n",
       "\n",
       "[753 rows x 3 columns]"
      ],
      "text/html": [
       "<div>\n",
       "<style scoped>\n",
       "    .dataframe tbody tr th:only-of-type {\n",
       "        vertical-align: middle;\n",
       "    }\n",
       "\n",
       "    .dataframe tbody tr th {\n",
       "        vertical-align: top;\n",
       "    }\n",
       "\n",
       "    .dataframe thead th {\n",
       "        text-align: right;\n",
       "    }\n",
       "</style>\n",
       "<table border=\"1\" class=\"dataframe\">\n",
       "  <thead>\n",
       "    <tr style=\"text-align: right;\">\n",
       "      <th></th>\n",
       "      <th>pickup_location_id</th>\n",
       "      <th>predicted_demand</th>\n",
       "      <th>pickup_hour</th>\n",
       "    </tr>\n",
       "  </thead>\n",
       "  <tbody>\n",
       "    <tr>\n",
       "      <th>0</th>\n",
       "      <td>254</td>\n",
       "      <td>0.0</td>\n",
       "      <td>2025-03-03 06:00:00+00:00</td>\n",
       "    </tr>\n",
       "    <tr>\n",
       "      <th>1</th>\n",
       "      <td>68</td>\n",
       "      <td>129.0</td>\n",
       "      <td>2025-03-03 06:00:00+00:00</td>\n",
       "    </tr>\n",
       "    <tr>\n",
       "      <th>2</th>\n",
       "      <td>207</td>\n",
       "      <td>0.0</td>\n",
       "      <td>2025-03-03 06:00:00+00:00</td>\n",
       "    </tr>\n",
       "    <tr>\n",
       "      <th>3</th>\n",
       "      <td>202</td>\n",
       "      <td>0.0</td>\n",
       "      <td>2025-03-03 06:00:00+00:00</td>\n",
       "    </tr>\n",
       "    <tr>\n",
       "      <th>4</th>\n",
       "      <td>91</td>\n",
       "      <td>0.0</td>\n",
       "      <td>2025-03-03 06:00:00+00:00</td>\n",
       "    </tr>\n",
       "    <tr>\n",
       "      <th>...</th>\n",
       "      <td>...</td>\n",
       "      <td>...</td>\n",
       "      <td>...</td>\n",
       "    </tr>\n",
       "    <tr>\n",
       "      <th>748</th>\n",
       "      <td>125</td>\n",
       "      <td>24.0</td>\n",
       "      <td>2025-03-03 08:00:00+00:00</td>\n",
       "    </tr>\n",
       "    <tr>\n",
       "      <th>749</th>\n",
       "      <td>173</td>\n",
       "      <td>0.0</td>\n",
       "      <td>2025-03-03 08:00:00+00:00</td>\n",
       "    </tr>\n",
       "    <tr>\n",
       "      <th>750</th>\n",
       "      <td>218</td>\n",
       "      <td>1.0</td>\n",
       "      <td>2025-03-03 08:00:00+00:00</td>\n",
       "    </tr>\n",
       "    <tr>\n",
       "      <th>751</th>\n",
       "      <td>72</td>\n",
       "      <td>1.0</td>\n",
       "      <td>2025-03-03 08:00:00+00:00</td>\n",
       "    </tr>\n",
       "    <tr>\n",
       "      <th>752</th>\n",
       "      <td>24</td>\n",
       "      <td>16.0</td>\n",
       "      <td>2025-03-03 08:00:00+00:00</td>\n",
       "    </tr>\n",
       "  </tbody>\n",
       "</table>\n",
       "<p>753 rows × 3 columns</p>\n",
       "</div>"
      ]
     },
     "execution_count": 17,
     "metadata": {},
     "output_type": "execute_result"
    }
   ],
   "execution_count": 17
  },
  {
   "cell_type": "code",
   "id": "3015ad82-b0b7-42e0-b6e3-6e69550da93a",
   "metadata": {
    "ExecuteTime": {
     "end_time": "2025-03-03T07:18:11.151173Z",
     "start_time": "2025-03-03T07:18:11.131744Z"
    }
   },
   "source": [
    "def fetch_next_hour_predictions():\n",
    "    # Get current UTC time and round up to next hour\n",
    "    now = datetime.now(timezone.utc)\n",
    "    next_hour = (now + timedelta(hours=1)).replace(minute=0, second=0, microsecond=0)\n",
    "\n",
    "    fs = get_feature_store()\n",
    "    fg = fs.get_feature_group(name=config.FEATURE_GROUP_MODEL_PREDICTION, version=1)\n",
    "\n",
    "    # Then filter for next hour in the DataFrame\n",
    "    df_hour = df[df[\"pickup_hour\"] == next_hour]\n",
    "\n",
    "    print(f\"Current UTC time: {now}\")\n",
    "    print(f\"Next hour: {next_hour}\")\n",
    "    print(f\"Found {len(df_hour)} records\")\n",
    "    return df_hour"
   ],
   "outputs": [],
   "execution_count": 19
  },
  {
   "cell_type": "code",
   "id": "1a42dc2b-f1b3-40a2-8610-1bed9c822355",
   "metadata": {
    "ExecuteTime": {
     "end_time": "2025-03-03T07:18:15.638435Z",
     "start_time": "2025-03-03T07:18:13.669932Z"
    }
   },
   "source": [
    "predictions = fetch_next_hour_predictions()"
   ],
   "outputs": [
    {
     "name": "stdout",
     "output_type": "stream",
     "text": [
      "2025-03-03 02:18:13,687 INFO: Closing external client and cleaning up certificates.\n",
      "Connection closed.\n",
      "2025-03-03 02:18:13,689 INFO: Initializing external client\n",
      "2025-03-03 02:18:13,690 INFO: Base URL: https://c.app.hopsworks.ai:443\n",
      "2025-03-03 02:18:14,460 INFO: Python Engine initialized.\n",
      "\n",
      "Logged in to project, explore it here https://c.app.hopsworks.ai:443/p/1215651\n",
      "Current UTC time: 2025-03-03 07:18:13.687047+00:00\n",
      "Next hour: 2025-03-03 08:00:00+00:00\n",
      "Found 251 records\n"
     ]
    }
   ],
   "execution_count": 20
  },
  {
   "cell_type": "code",
   "id": "6495da67-1068-41e0-9092-458c11626900",
   "metadata": {
    "ExecuteTime": {
     "end_time": "2025-03-03T07:18:21.395148Z",
     "start_time": "2025-03-03T07:18:19.674345Z"
    }
   },
   "source": [
    "fs = get_feature_store()\n",
    "fg = fs.get_feature_group(name=config.FEATURE_GROUP_MODEL_PREDICTION, version=1)\n",
    "\n"
   ],
   "outputs": [
    {
     "name": "stdout",
     "output_type": "stream",
     "text": [
      "2025-03-03 02:18:19,690 INFO: Closing external client and cleaning up certificates.\n",
      "Connection closed.\n",
      "2025-03-03 02:18:19,692 INFO: Initializing external client\n",
      "2025-03-03 02:18:19,693 INFO: Base URL: https://c.app.hopsworks.ai:443\n",
      "2025-03-03 02:18:20,414 INFO: Python Engine initialized.\n",
      "\n",
      "Logged in to project, explore it here https://c.app.hopsworks.ai:443/p/1215651\n"
     ]
    }
   ],
   "execution_count": 21
  },
  {
   "cell_type": "code",
   "id": "9761c899-38c7-4560-9226-d41ce20811df",
   "metadata": {
    "ExecuteTime": {
     "end_time": "2025-03-03T07:18:27.220050Z",
     "start_time": "2025-03-03T07:18:23.937618Z"
    }
   },
   "source": [
    "df = fg.read()"
   ],
   "outputs": [
    {
     "name": "stdout",
     "output_type": "stream",
     "text": [
      "Finished: Reading data from Hopsworks, using Hopsworks Feature Query Service (0.81s) \n"
     ]
    }
   ],
   "execution_count": 22
  },
  {
   "cell_type": "code",
   "id": "90052c02-a072-423f-95d5-086c1ca786eb",
   "metadata": {
    "ExecuteTime": {
     "end_time": "2025-03-03T07:18:30.039793Z",
     "start_time": "2025-03-03T07:18:30.019726Z"
    }
   },
   "source": [
    "df[\"pickup_hour\"].max()"
   ],
   "outputs": [
    {
     "data": {
      "text/plain": [
       "Timestamp('2025-03-03 08:00:00+0000', tz='Etc/UTC')"
      ]
     },
     "execution_count": 23,
     "metadata": {},
     "output_type": "execute_result"
    }
   ],
   "execution_count": 23
  },
  {
   "cell_type": "code",
   "id": "30f5c3e8-156e-44a5-ac8a-ccb1479a6936",
   "metadata": {
    "ExecuteTime": {
     "end_time": "2025-03-03T07:18:32.634798Z",
     "start_time": "2025-03-03T07:18:32.616014Z"
    }
   },
   "source": [
    "now = datetime.now(timezone.utc)\n",
    "next_hour = (now + timedelta(hours=1)).replace(minute=0, second=0, microsecond=0)\n",
    "print(next_hour)"
   ],
   "outputs": [
    {
     "name": "stdout",
     "output_type": "stream",
     "text": [
      "2025-03-03 08:00:00+00:00\n"
     ]
    }
   ],
   "execution_count": 24
  },
  {
   "cell_type": "code",
   "id": "02ebe046-ae58-489e-99e7-a4f27755a10f",
   "metadata": {
    "ExecuteTime": {
     "end_time": "2025-03-03T07:18:34.941926Z",
     "start_time": "2025-03-03T07:18:34.920163Z"
    }
   },
   "source": [
    "df[df[\"pickup_hour\"] == next_hour]"
   ],
   "outputs": [
    {
     "data": {
      "text/plain": [
       "     pickup_location_id  predicted_demand               pickup_hour\n",
       "502                  46               0.0 2025-03-03 08:00:00+00:00\n",
       "503                 162             119.0 2025-03-03 08:00:00+00:00\n",
       "504                 261              15.0 2025-03-03 08:00:00+00:00\n",
       "505                 190               0.0 2025-03-03 08:00:00+00:00\n",
       "506                  18               0.0 2025-03-03 08:00:00+00:00\n",
       "..                  ...               ...                       ...\n",
       "748                 125              24.0 2025-03-03 08:00:00+00:00\n",
       "749                 173               0.0 2025-03-03 08:00:00+00:00\n",
       "750                 218               1.0 2025-03-03 08:00:00+00:00\n",
       "751                  72               1.0 2025-03-03 08:00:00+00:00\n",
       "752                  24              16.0 2025-03-03 08:00:00+00:00\n",
       "\n",
       "[251 rows x 3 columns]"
      ],
      "text/html": [
       "<div>\n",
       "<style scoped>\n",
       "    .dataframe tbody tr th:only-of-type {\n",
       "        vertical-align: middle;\n",
       "    }\n",
       "\n",
       "    .dataframe tbody tr th {\n",
       "        vertical-align: top;\n",
       "    }\n",
       "\n",
       "    .dataframe thead th {\n",
       "        text-align: right;\n",
       "    }\n",
       "</style>\n",
       "<table border=\"1\" class=\"dataframe\">\n",
       "  <thead>\n",
       "    <tr style=\"text-align: right;\">\n",
       "      <th></th>\n",
       "      <th>pickup_location_id</th>\n",
       "      <th>predicted_demand</th>\n",
       "      <th>pickup_hour</th>\n",
       "    </tr>\n",
       "  </thead>\n",
       "  <tbody>\n",
       "    <tr>\n",
       "      <th>502</th>\n",
       "      <td>46</td>\n",
       "      <td>0.0</td>\n",
       "      <td>2025-03-03 08:00:00+00:00</td>\n",
       "    </tr>\n",
       "    <tr>\n",
       "      <th>503</th>\n",
       "      <td>162</td>\n",
       "      <td>119.0</td>\n",
       "      <td>2025-03-03 08:00:00+00:00</td>\n",
       "    </tr>\n",
       "    <tr>\n",
       "      <th>504</th>\n",
       "      <td>261</td>\n",
       "      <td>15.0</td>\n",
       "      <td>2025-03-03 08:00:00+00:00</td>\n",
       "    </tr>\n",
       "    <tr>\n",
       "      <th>505</th>\n",
       "      <td>190</td>\n",
       "      <td>0.0</td>\n",
       "      <td>2025-03-03 08:00:00+00:00</td>\n",
       "    </tr>\n",
       "    <tr>\n",
       "      <th>506</th>\n",
       "      <td>18</td>\n",
       "      <td>0.0</td>\n",
       "      <td>2025-03-03 08:00:00+00:00</td>\n",
       "    </tr>\n",
       "    <tr>\n",
       "      <th>...</th>\n",
       "      <td>...</td>\n",
       "      <td>...</td>\n",
       "      <td>...</td>\n",
       "    </tr>\n",
       "    <tr>\n",
       "      <th>748</th>\n",
       "      <td>125</td>\n",
       "      <td>24.0</td>\n",
       "      <td>2025-03-03 08:00:00+00:00</td>\n",
       "    </tr>\n",
       "    <tr>\n",
       "      <th>749</th>\n",
       "      <td>173</td>\n",
       "      <td>0.0</td>\n",
       "      <td>2025-03-03 08:00:00+00:00</td>\n",
       "    </tr>\n",
       "    <tr>\n",
       "      <th>750</th>\n",
       "      <td>218</td>\n",
       "      <td>1.0</td>\n",
       "      <td>2025-03-03 08:00:00+00:00</td>\n",
       "    </tr>\n",
       "    <tr>\n",
       "      <th>751</th>\n",
       "      <td>72</td>\n",
       "      <td>1.0</td>\n",
       "      <td>2025-03-03 08:00:00+00:00</td>\n",
       "    </tr>\n",
       "    <tr>\n",
       "      <th>752</th>\n",
       "      <td>24</td>\n",
       "      <td>16.0</td>\n",
       "      <td>2025-03-03 08:00:00+00:00</td>\n",
       "    </tr>\n",
       "  </tbody>\n",
       "</table>\n",
       "<p>251 rows × 3 columns</p>\n",
       "</div>"
      ]
     },
     "execution_count": 25,
     "metadata": {},
     "output_type": "execute_result"
    }
   ],
   "execution_count": 25
  }
 ],
 "metadata": {
  "kernelspec": {
   "display_name": "Python 3 (ipykernel)",
   "language": "python",
   "name": "python3"
  },
  "language_info": {
   "codemirror_mode": {
    "name": "ipython",
    "version": 3
   },
   "file_extension": ".py",
   "mimetype": "text/x-python",
   "name": "python",
   "nbconvert_exporter": "python",
   "pygments_lexer": "ipython3",
   "version": "3.11.11"
  }
 },
 "nbformat": 4,
 "nbformat_minor": 5
}
